{
 "cells": [
  {
   "cell_type": "code",
   "execution_count": 2,
   "id": "a4ccdd22",
   "metadata": {},
   "outputs": [],
   "source": [
    "import numpy as np\n",
    "import pandas as pd\n",
    "import seaborn as sns\n",
    "import matplotlib.pyplot as plt\n",
    "from sklearn.datasets import fetch_openml\n",
    "from sklearn.model_selection import train_test_split, cross_validate, GridSearchCV\n",
    "from sklearn.ensemble import RandomForestRegressor\n",
    "from sklearn.linear_model import LinearRegression, Lasso\n",
    "from sklearn.metrics import mean_squared_error"
   ]
  },
  {
   "cell_type": "code",
   "execution_count": 3,
   "id": "97c78eed",
   "metadata": {},
   "outputs": [
    {
     "name": "stdout",
     "output_type": "stream",
     "text": [
      "**Author**: Yann LeCun, Corinna Cortes, Christopher J.C. Burges  \n",
      "**Source**: [MNIST Website](http://yann.lecun.com/exdb/mnist/) - Date unknown  \n",
      "**Please cite**:  \n",
      "\n",
      "The MNIST database of handwritten digits with 784 features, raw data available at: http://yann.lecun.com/exdb/mnist/. It can be split in a training set of the first 60,000 examples, and a test set of 10,000 examples  \n",
      "\n",
      "It is a subset of a larger set available from NIST. The digits have been size-normalized and centered in a fixed-size image. It is a good database for people who want to try learning techniques and pattern recognition methods on real-world data while spending minimal efforts on preprocessing and formatting. The original black and white (bilevel) images from NIST were size normalized to fit in a 20x20 pixel box while preserving their aspect ratio. The resulting images contain grey levels as a result of the anti-aliasing technique used by the normalization algorithm. the images were centered in a 28x28 image by computing the center of mass of the pixels, and translating the image so as to position this point at the center of the 28x28 field.  \n",
      "\n",
      "With some classification methods (particularly template-based methods, such as SVM and K-nearest neighbors), the error rate improves when the digits are centered by bounding box rather than center of mass. If you do this kind of pre-processing, you should report it in your publications. The MNIST database was constructed from NIST's NIST originally designated SD-3 as their training set and SD-1 as their test set. However, SD-3 is much cleaner and easier to recognize than SD-1. The reason for this can be found on the fact that SD-3 was collected among Census Bureau employees, while SD-1 was collected among high-school students. Drawing sensible conclusions from learning experiments requires that the result be independent of the choice of training set and test among the complete set of samples. Therefore it was necessary to build a new database by mixing NIST's datasets.  \n",
      "\n",
      "The MNIST training set is composed of 30,000 patterns from SD-3 and 30,000 patterns from SD-1. Our test set was composed of 5,000 patterns from SD-3 and 5,000 patterns from SD-1. The 60,000 pattern training set contained examples from approximately 250 writers. We made sure that the sets of writers of the training set and test set were disjoint. SD-1 contains 58,527 digit images written by 500 different writers. In contrast to SD-3, where blocks of data from each writer appeared in sequence, the data in SD-1 is scrambled. Writer identities for SD-1 is available and we used this information to unscramble the writers. We then split SD-1 in two: characters written by the first 250 writers went into our new training set. The remaining 250 writers were placed in our test set. Thus we had two sets with nearly 30,000 examples each. The new training set was completed with enough examples from SD-3, starting at pattern # 0, to make a full set of 60,000 training patterns. Similarly, the new test set was completed with SD-3 examples starting at pattern # 35,000 to make a full set with 60,000 test patterns. Only a subset of 10,000 test images (5,000 from SD-1 and 5,000 from SD-3) is available on this site. The full 60,000 sample training set is available.\n",
      "\n",
      "Downloaded from openml.org.\n"
     ]
    }
   ],
   "source": [
    "# Load MNIST dataset\n",
    "mnist = fetch_openml('mnist_784', version=1, cache=True, as_frame=False, parser='auto')\n",
    "print(mnist.DESCR)"
   ]
  },
  {
   "cell_type": "code",
   "execution_count": 4,
   "id": "d633edfe",
   "metadata": {},
   "outputs": [
    {
     "name": "stdout",
     "output_type": "stream",
     "text": [
      "Shape of X: (70000, 784)\n",
      "Shape of y: (70000,)\n"
     ]
    }
   ],
   "source": [
    "# Check if Data is Loaded Correctly\n",
    "X, y = mnist[\"data\"], mnist[\"target\"].astype(np.uint8)\n",
    "print(\"Shape of X:\", X.shape)\n",
    "print(\"Shape of y:\", y.shape)"
   ]
  },
  {
   "cell_type": "code",
   "execution_count": 5,
   "id": "af7d28cc",
   "metadata": {},
   "outputs": [],
   "source": [
    "# Split dataset into training and testing sets\n",
    "X_train, X_test, y_train, y_test = train_test_split(X, y, test_size=0.2, random_state=42)"
   ]
  },
  {
   "cell_type": "code",
   "execution_count": 6,
   "id": "1a29ae8d",
   "metadata": {},
   "outputs": [
    {
     "name": "stdout",
     "output_type": "stream",
     "text": [
      "Linear Regression RMSE for each iteration: [1.97636959e+06 1.66995996e+08 2.93905758e+10]\n",
      "Linear Regression RMSE: 16968930778.638704\n"
     ]
    }
   ],
   "source": [
    "# Linear Regression\n",
    "lin_reg = LinearRegression()\n",
    "scores_lr = cross_validate(lin_reg, X_train, y_train, cv=3, scoring='neg_mean_squared_error')[\"test_score\"]\n",
    "print('Linear Regression RMSE for each iteration:', np.sqrt(-scores_lr))\n",
    "print('Linear Regression RMSE:', np.sqrt(np.mean(-scores_lr)))"
   ]
  },
  {
   "cell_type": "code",
   "execution_count": 7,
   "id": "febc08ee",
   "metadata": {
    "scrolled": true
   },
   "outputs": [
    {
     "name": "stdout",
     "output_type": "stream",
     "text": [
      "Best Lasso parameters: {'alpha': 0.01}\n",
      "Lasso Regression RMSE for each iteration: [1.81673881 1.81069318 1.80944323]\n",
      "Lasso Regression RMSE: 1.8122945403900494\n"
     ]
    }
   ],
   "source": [
    "# Lasso Regression\n",
    "lasso = Lasso()\n",
    "hyper_param_lasso = {'alpha': [0.01, 1, 2, 5, 10]}  # Changed from tuple to list\n",
    "lasso_reg = GridSearchCV(lasso, hyper_param_lasso, cv=5)\n",
    "lasso_reg.fit(X_train, y_train)\n",
    "print('Best Lasso parameters:', lasso_reg.best_params_)\n",
    "scores_lasso = cross_validate(lasso_reg, X_train, y_train, cv=3, scoring='neg_mean_squared_error')[\"test_score\"]\n",
    "print('Lasso Regression RMSE for each iteration:', np.sqrt(-scores_lasso))\n",
    "print('Lasso Regression RMSE:', np.sqrt(np.mean(-scores_lasso)))"
   ]
  },
  {
   "cell_type": "code",
   "execution_count": null,
   "id": "3f4ec69e",
   "metadata": {},
   "outputs": [],
   "source": [
    "# Random Forest Regression\n",
    "forest = RandomForestRegressor()\n",
    "param_grid = {'n_estimators': [10, 100, 120], 'max_depth': [None, 10]}\n",
    "forest_reg = GridSearchCV(forest, param_grid=param_grid, cv=5)\n",
    "forest_reg.fit(X_train, y_train)\n",
    "print('Best Random Forest parameters:', forest_reg.best_params_)\n",
    "scores_forest = cross_validate(forest_reg, X_train, y_train, cv=3, scoring='neg_mean_squared_error')[\"test_score\"]\n",
    "print('Random Forest Regression RMSE for each iteration:', np.sqrt(-scores_forest))\n",
    "print('Random Forest Regression RMSE:', np.sqrt(np.mean(-scores_forest)))"
   ]
  },
  {
   "cell_type": "code",
   "execution_count": null,
   "id": "5e55748f",
   "metadata": {},
   "outputs": [],
   "source": [
    "# Choosing the best model based on RMSE\n",
    "best_model = lin_reg if np.mean(-scores_lr) < np.mean(-scores_lasso) else lasso_reg.best_estimator_ if np.mean(-scores_lasso) < np.mean(-scores_forest) else forest_reg.best_estimator_"
   ]
  },
  {
   "cell_type": "code",
   "execution_count": null,
   "id": "2fb9519e",
   "metadata": {},
   "outputs": [],
   "source": [
    "# Training the best model\n",
    "best_model.fit(X_train, y_train)"
   ]
  },
  {
   "cell_type": "code",
   "execution_count": null,
   "id": "30816eb0",
   "metadata": {},
   "outputs": [],
   "source": [
    "# Evaluating the best model on the test set\n",
    "y_pred = best_model.predict(X_test)\n",
    "test_rmse = mean_squared_error(y_test, y_pred, squared=False)\n",
    "print('Best Model RMSE on test set:', test_rmse)"
   ]
  },
  {
   "cell_type": "code",
   "execution_count": null,
   "id": "2d606841",
   "metadata": {},
   "outputs": [],
   "source": []
  }
 ],
 "metadata": {
  "kernelspec": {
   "display_name": "Python 3 (ipykernel)",
   "language": "python",
   "name": "python3"
  },
  "language_info": {
   "codemirror_mode": {
    "name": "ipython",
    "version": 3
   },
   "file_extension": ".py",
   "mimetype": "text/x-python",
   "name": "python",
   "nbconvert_exporter": "python",
   "pygments_lexer": "ipython3",
   "version": "3.11.8"
  }
 },
 "nbformat": 4,
 "nbformat_minor": 5
}
